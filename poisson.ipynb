{
 "cells": [
  {
   "cell_type": "code",
   "execution_count": 1,
   "metadata": {},
   "outputs": [
    {
     "name": "stdout",
     "output_type": "stream",
     "text": [
      "Jupyter environment detected. Enabling Open3D WebVisualizer.\n",
      "[Open3D INFO] WebRTC GUI backend enabled.\n",
      "[Open3D INFO] WebRTCWindowSystem: HTTP handshake server disabled.\n"
     ]
    }
   ],
   "source": [
    "import FlowRbf as flow\n",
    "import numpy as np\n",
    "import open3d as o3d"
   ]
  },
  {
   "cell_type": "code",
   "execution_count": 2,
   "metadata": {},
   "outputs": [],
   "source": [
    "def f(x):\n",
    "    return 8 * np.pi**2 * np.sin(2 * np.pi * x[0]) * np.sin(2 * np.pi * x[1])\n",
    "\n",
    "\n",
    "class Poisson(flow.regions.Region):\n",
    "    def operator(self, rbf, x, y):\n",
    "        return - rbf.laplace(x, y), f(x)\n",
    "\n",
    "\n",
    "class PoissonBoundary(flow.regions.Region):\n",
    "    def operator(self, rbf, x, y):\n",
    "        return rbf.func(x, y), 0.0\n"
   ]
  },
  {
   "cell_type": "code",
   "execution_count": 10,
   "metadata": {},
   "outputs": [],
   "source": []
  },
  {
   "cell_type": "code",
   "execution_count": 3,
   "metadata": {},
   "outputs": [
    {
     "ename": "",
     "evalue": "",
     "output_type": "error",
     "traceback": [
      "\u001b[1;31mThe Kernel crashed while executing code in the current cell or a previous cell. \n",
      "\u001b[1;31mPlease review the code in the cell(s) to identify a possible cause of the failure. \n",
      "\u001b[1;31mClick <a href='https://aka.ms/vscodeJupyterKernelCrash'>here</a> for more info. \n",
      "\u001b[1;31mView Jupyter <a href='command:jupyter.viewOutput'>log</a> for further details."
     ]
    }
   ],
   "source": [
    "!export XDG_SESSION_TYPE=x11\n",
    "\n",
    "# Set the number of grid points along each axis\n",
    "nx = 20  # number of points along x\n",
    "ny = 20  # number of points along y\n",
    "\n",
    "# Generate grid points in [0,1] x [0,1]\n",
    "x = np.linspace(0, 1, nx)\n",
    "y = np.linspace(0, 1, ny)\n",
    "X, Y = np.meshgrid(x, y)\n",
    "\n",
    "# Flatten the grid arrays and create a (N, 3) array of 3D points (with z=0)\n",
    "points = np.vstack((X.ravel(), Y.ravel(), np.zeros(X.size))).T\n",
    "\n",
    "# Create a tolerance for comparing floating point numbers\n",
    "tol = 1e-8\n",
    "\n",
    "# Identify boundary points:\n",
    "# A point is on the boundary if its x-coordinate is 0 or 1, or its y-coordinate is 0 or 1.\n",
    "boundary_mask = (\n",
    "    (np.abs(points[:, 0] - 0) < tol) |\n",
    "    (np.abs(points[:, 0] - 1) < tol) |\n",
    "    (np.abs(points[:, 1] - 0) < tol) |\n",
    "    (np.abs(points[:, 1] - 1) < tol)\n",
    ")\n",
    "\n",
    "# Separate boundary and interior points\n",
    "boundary_points = points[boundary_mask]\n",
    "interior_points = points[~boundary_mask]"
   ]
  },
  {
   "cell_type": "code",
   "execution_count": null,
   "metadata": {},
   "outputs": [],
   "source": [
    "centres = flow.Centres()\n",
    "centres.add(PoissonBoundary(), boundary_points)\n",
    "centres.add(Poisson(), interior_points)"
   ]
  },
  {
   "cell_type": "code",
   "execution_count": null,
   "metadata": {},
   "outputs": [],
   "source": []
  }
 ],
 "metadata": {
  "kernelspec": {
   "display_name": ".venv",
   "language": "python",
   "name": "python3"
  },
  "language_info": {
   "codemirror_mode": {
    "name": "ipython",
    "version": 3
   },
   "file_extension": ".py",
   "mimetype": "text/x-python",
   "name": "python",
   "nbconvert_exporter": "python",
   "pygments_lexer": "ipython3",
   "version": "3.11.11"
  }
 },
 "nbformat": 4,
 "nbformat_minor": 2
}
